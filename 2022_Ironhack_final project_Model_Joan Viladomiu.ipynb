{
 "cells": [
  {
   "cell_type": "markdown",
   "id": "1445c66b-e8f2-41a9-8d08-227edfa5f123",
   "metadata": {},
   "source": [
    "# Modelo de predicción de aprobación de creditos"
   ]
  },
  {
   "cell_type": "markdown",
   "id": "54287dd2-755c-416e-b2f6-4622b8077976",
   "metadata": {},
   "source": [
    "#### La base de datos es del __U.S. Small Business Administration (SBA)__, una empresa que se dedica a la concesión de creditos a pequeños negocios, consiste en un histórico de características de los clientes que solicitaron un credito\n",
    "#### Se va a construit un modelo para predecir la aprobación de un credito\n",
    "##### Link de la BBDD \n",
    "[https://www.kaggle.com/datasets/mirbektoktogaraev/should-this-loan-be-approved-or-denied?select=SBAnational.csv]"
   ]
  },
  {
   "cell_type": "markdown",
   "id": "9f467ea8-5392-4815-80bf-d20ca349c0b8",
   "metadata": {},
   "source": [
    "### 1. Importamos y inspeccionamos la BBDD"
   ]
  },
  {
   "cell_type": "code",
   "execution_count": 1,
   "id": "2ea771cb-7232-46ce-a890-9ca97a74371a",
   "metadata": {},
   "outputs": [],
   "source": [
    "import pandas as pd\n",
    "pd.set_option('display.max_columns', None)\n",
    "import numpy as np\n",
    "\n",
    "import warnings\n",
    "warnings.filterwarnings(\"ignore\")"
   ]
  },
  {
   "cell_type": "code",
   "execution_count": 2,
   "id": "6949e4d6-409d-4d7e-8799-2d93db5a33f2",
   "metadata": {},
   "outputs": [],
   "source": [
    "data = pd.read_csv('datasets\\_9loan_approval\\SBAnational.csv')"
   ]
  },
  {
   "cell_type": "code",
   "execution_count": 3,
   "id": "ba99f433-e20e-40ef-857a-ced76c743b0b",
   "metadata": {},
   "outputs": [],
   "source": [
    "# guardaremos esta base de datos para el análisis en Power BI (en el punto 7., la limpiaremos para poder hacer un mejor análisis)\n",
    "P_BI = data"
   ]
  },
  {
   "cell_type": "code",
   "execution_count": 4,
   "id": "5848c936-8903-4d16-acaf-080681ba2053",
   "metadata": {},
   "outputs": [
    {
     "data": {
      "text/plain": [
       "(899164, 27)"
      ]
     },
     "execution_count": 4,
     "metadata": {},
     "output_type": "execute_result"
    }
   ],
   "source": [
    "data.shape"
   ]
  },
  {
   "cell_type": "code",
   "execution_count": 5,
   "id": "1d45e10d-884c-45a7-8ac3-f23674c7b3aa",
   "metadata": {},
   "outputs": [
    {
     "data": {
      "text/plain": [
       "Index(['loannr_chkdgt', 'name', 'city', 'state', 'zip', 'bank', 'bankstate',\n",
       "       'naics', 'approvaldate', 'approvalfy', 'term', 'noemp', 'newexist',\n",
       "       'createjob', 'retainedjob', 'franchisecode', 'urbanrural', 'revlinecr',\n",
       "       'lowdoc', 'chgoffdate', 'disbursementdate', 'disbursementgross',\n",
       "       'balancegross', 'mis_status', 'chgoffpringr', 'grappv', 'sba_appv'],\n",
       "      dtype='object')"
      ]
     },
     "execution_count": 5,
     "metadata": {},
     "output_type": "execute_result"
    }
   ],
   "source": [
    "data.columns = [e.lower() for e in data.columns]   \n",
    "data.columns"
   ]
  },
  {
   "cell_type": "code",
   "execution_count": 6,
   "id": "544db663-9770-4bb2-9038-c94812f49f38",
   "metadata": {
    "tags": []
   },
   "outputs": [],
   "source": [
    "data = data.drop(['loannr_chkdgt', 'name', 'state', 'bank', 'franchisecode', 'approvaldate', \n",
    "                  'disbursementdate', 'approvalfy', 'chgoffdate', 'city', 'bankstate'], axis = 1)"
   ]
  },
  {
   "cell_type": "code",
   "execution_count": 7,
   "id": "41743188-6073-4582-a496-20b5cb838f92",
   "metadata": {},
   "outputs": [],
   "source": [
    "data.columns = ['zip', 'industry', 'loan_term', 'employees', 'new/exist', 'jobs_created', \n",
    "                'jobs_retained', 'urban/rural', 'revlinecr', 'lowdoc', 'amount_disbursed', \n",
    "                'balancegross', 'loan_status', 'chargedoff_amount', 'grappv', 'sba_appv']"
   ]
  },
  {
   "cell_type": "code",
   "execution_count": 8,
   "id": "7f99dec4-acf1-4b99-9483-908e7ca1a180",
   "metadata": {},
   "outputs": [
    {
     "data": {
      "text/plain": [
       "zip                     0\n",
       "industry                0\n",
       "loan_term               0\n",
       "employees               0\n",
       "new/exist             136\n",
       "jobs_created            0\n",
       "jobs_retained           0\n",
       "urban/rural             0\n",
       "revlinecr            4528\n",
       "lowdoc               2582\n",
       "amount_disbursed        0\n",
       "balancegross            0\n",
       "loan_status          1997\n",
       "chargedoff_amount       0\n",
       "grappv                  0\n",
       "sba_appv                0\n",
       "dtype: int64"
      ]
     },
     "execution_count": 8,
     "metadata": {},
     "output_type": "execute_result"
    }
   ],
   "source": [
    "data.isna().sum()"
   ]
  },
  {
   "cell_type": "code",
   "execution_count": 9,
   "id": "86caffb4-a87a-4818-b5d4-8ac081b910b8",
   "metadata": {},
   "outputs": [],
   "source": [
    "data = data.dropna()"
   ]
  },
  {
   "cell_type": "code",
   "execution_count": 10,
   "id": "3da49ca7-f1b3-4294-bfd2-f3267a8a0a99",
   "metadata": {},
   "outputs": [
    {
     "data": {
      "text/html": [
       "<div>\n",
       "<style scoped>\n",
       "    .dataframe tbody tr th:only-of-type {\n",
       "        vertical-align: middle;\n",
       "    }\n",
       "\n",
       "    .dataframe tbody tr th {\n",
       "        vertical-align: top;\n",
       "    }\n",
       "\n",
       "    .dataframe thead th {\n",
       "        text-align: right;\n",
       "    }\n",
       "</style>\n",
       "<table border=\"1\" class=\"dataframe\">\n",
       "  <thead>\n",
       "    <tr style=\"text-align: right;\">\n",
       "      <th></th>\n",
       "      <th>zip</th>\n",
       "      <th>industry</th>\n",
       "      <th>loan_term</th>\n",
       "      <th>employees</th>\n",
       "      <th>new/exist</th>\n",
       "      <th>jobs_created</th>\n",
       "      <th>jobs_retained</th>\n",
       "      <th>urban/rural</th>\n",
       "      <th>revlinecr</th>\n",
       "      <th>lowdoc</th>\n",
       "      <th>amount_disbursed</th>\n",
       "      <th>balancegross</th>\n",
       "      <th>loan_status</th>\n",
       "      <th>chargedoff_amount</th>\n",
       "      <th>grappv</th>\n",
       "      <th>sba_appv</th>\n",
       "    </tr>\n",
       "  </thead>\n",
       "  <tbody>\n",
       "    <tr>\n",
       "      <th>0</th>\n",
       "      <td>47711</td>\n",
       "      <td>451120</td>\n",
       "      <td>84</td>\n",
       "      <td>4</td>\n",
       "      <td>2.0</td>\n",
       "      <td>0</td>\n",
       "      <td>0</td>\n",
       "      <td>0</td>\n",
       "      <td>N</td>\n",
       "      <td>Y</td>\n",
       "      <td>$60,000.00</td>\n",
       "      <td>$0.00</td>\n",
       "      <td>P I F</td>\n",
       "      <td>$0.00</td>\n",
       "      <td>$60,000.00</td>\n",
       "      <td>$48,000.00</td>\n",
       "    </tr>\n",
       "    <tr>\n",
       "      <th>1</th>\n",
       "      <td>46526</td>\n",
       "      <td>722410</td>\n",
       "      <td>60</td>\n",
       "      <td>2</td>\n",
       "      <td>2.0</td>\n",
       "      <td>0</td>\n",
       "      <td>0</td>\n",
       "      <td>0</td>\n",
       "      <td>N</td>\n",
       "      <td>Y</td>\n",
       "      <td>$40,000.00</td>\n",
       "      <td>$0.00</td>\n",
       "      <td>P I F</td>\n",
       "      <td>$0.00</td>\n",
       "      <td>$40,000.00</td>\n",
       "      <td>$32,000.00</td>\n",
       "    </tr>\n",
       "    <tr>\n",
       "      <th>2</th>\n",
       "      <td>47401</td>\n",
       "      <td>621210</td>\n",
       "      <td>180</td>\n",
       "      <td>7</td>\n",
       "      <td>1.0</td>\n",
       "      <td>0</td>\n",
       "      <td>0</td>\n",
       "      <td>0</td>\n",
       "      <td>N</td>\n",
       "      <td>N</td>\n",
       "      <td>$287,000.00</td>\n",
       "      <td>$0.00</td>\n",
       "      <td>P I F</td>\n",
       "      <td>$0.00</td>\n",
       "      <td>$287,000.00</td>\n",
       "      <td>$215,250.00</td>\n",
       "    </tr>\n",
       "  </tbody>\n",
       "</table>\n",
       "</div>"
      ],
      "text/plain": [
       "     zip  industry  loan_term  employees  new/exist  jobs_created  \\\n",
       "0  47711    451120         84          4        2.0             0   \n",
       "1  46526    722410         60          2        2.0             0   \n",
       "2  47401    621210        180          7        1.0             0   \n",
       "\n",
       "   jobs_retained  urban/rural revlinecr lowdoc amount_disbursed balancegross  \\\n",
       "0              0            0         N      Y      $60,000.00        $0.00    \n",
       "1              0            0         N      Y      $40,000.00        $0.00    \n",
       "2              0            0         N      N     $287,000.00        $0.00    \n",
       "\n",
       "  loan_status chargedoff_amount        grappv      sba_appv  \n",
       "0       P I F            $0.00    $60,000.00    $48,000.00   \n",
       "1       P I F            $0.00    $40,000.00    $32,000.00   \n",
       "2       P I F            $0.00   $287,000.00   $215,250.00   "
      ]
     },
     "execution_count": 10,
     "metadata": {},
     "output_type": "execute_result"
    }
   ],
   "source": [
    "data.head(3)"
   ]
  },
  {
   "cell_type": "code",
   "execution_count": 11,
   "id": "bbae4d47-997a-43b3-ae11-464e7ce9caf2",
   "metadata": {},
   "outputs": [],
   "source": [
    "lista_col_dollars = ['amount_disbursed','balancegross','chargedoff_amount','grappv','sba_appv']\n",
    "for d in lista_col_dollars: \n",
    "    data[d] = data[d].str.replace('$', '').str.replace(',','')"
   ]
  },
  {
   "cell_type": "markdown",
   "id": "77ed3931-0d4c-48e9-890f-0828db87a4ee",
   "metadata": {},
   "source": [
    "### 2. Evaluamos los valores que deberían ser 'binarios'"
   ]
  },
  {
   "cell_type": "code",
   "execution_count": 12,
   "id": "f3f61484-82cb-4ccc-bea3-37cae0f1afe5",
   "metadata": {},
   "outputs": [
    {
     "data": {
      "text/plain": [
       "1    466767\n",
       "0    318872\n",
       "2    104299\n",
       "Name: urban/rural, dtype: int64"
      ]
     },
     "execution_count": 12,
     "metadata": {},
     "output_type": "execute_result"
    }
   ],
   "source": [
    "# 1 = ruban, 2 = rural, 3 = undefined\n",
    "data['urban/rural'].value_counts()"
   ]
  },
  {
   "cell_type": "code",
   "execution_count": 13,
   "id": "53e4620c-aac3-4ad0-8705-105da3358b55",
   "metadata": {},
   "outputs": [
    {
     "data": {
      "text/plain": [
       "N    778761\n",
       "Y    108009\n",
       "0      1239\n",
       "C       757\n",
       "S       602\n",
       "A       495\n",
       "R        74\n",
       "1         1\n",
       "Name: lowdoc, dtype: int64"
      ]
     },
     "execution_count": 13,
     "metadata": {},
     "output_type": "execute_result"
    }
   ],
   "source": [
    "# Para los créditos de menos de 150.000 dolares, pueden aplicar con un documetno más corto \n",
    "# (Y = yes, los demás son aplicaciones con más información)\n",
    "data['lowdoc'].value_counts()"
   ]
  },
  {
   "cell_type": "code",
   "execution_count": 14,
   "id": "64cd0a50-a77d-48e1-a5d7-9007d5d79a45",
   "metadata": {},
   "outputs": [],
   "source": [
    "data['lowdoc'] = data['lowdoc'].str.replace('0', 'undefined')\n",
    "data['lowdoc'] = data['lowdoc'].str.replace('C', 'undefined')\n",
    "data['lowdoc'] = data['lowdoc'].str.replace('C', 'undefined')\n",
    "data['lowdoc'] = data['lowdoc'].str.replace('S', 'undefined')\n",
    "data['lowdoc'] = data['lowdoc'].str.replace('A', 'undefined')\n",
    "data['lowdoc'] = data['lowdoc'].str.replace('R', 'undefined')\n",
    "data['lowdoc'] = data['lowdoc'].str.replace('1', 'undefined')"
   ]
  },
  {
   "cell_type": "code",
   "execution_count": 15,
   "id": "596fc719-a4a4-4344-b46b-a418185c8d64",
   "metadata": {},
   "outputs": [
    {
     "data": {
      "text/plain": [
       "N            778761\n",
       "Y            108009\n",
       "undefined      3168\n",
       "Name: lowdoc, dtype: int64"
      ]
     },
     "execution_count": 15,
     "metadata": {},
     "output_type": "execute_result"
    }
   ],
   "source": [
    "data['lowdoc'].value_counts()"
   ]
  },
  {
   "cell_type": "code",
   "execution_count": 16,
   "id": "ebf3728e-0a2f-4da0-81b0-df81e0869cc0",
   "metadata": {},
   "outputs": [
    {
     "data": {
      "text/plain": [
       "1.0    638875\n",
       "2.0    250038\n",
       "0.0      1025\n",
       "Name: new/exist, dtype: int64"
      ]
     },
     "execution_count": 16,
     "metadata": {},
     "output_type": "execute_result"
    }
   ],
   "source": [
    "# 1 = existing business, 2 = new business, 0 = undefined\n",
    "# existe hace más de 2 años...\n",
    "data['new/exist'].value_counts()"
   ]
  },
  {
   "cell_type": "code",
   "execution_count": 17,
   "id": "198906fc-18c1-4875-a401-16599944b165",
   "metadata": {},
   "outputs": [
    {
     "data": {
      "text/plain": [
       "P I F     733502\n",
       "CHGOFF    156436\n",
       "Name: loan_status, dtype: int64"
      ]
     },
     "execution_count": 17,
     "metadata": {},
     "output_type": "execute_result"
    }
   ],
   "source": [
    "# paid in full\n",
    "# charged off\n",
    "data['loan_status'].value_counts()"
   ]
  },
  {
   "cell_type": "code",
   "execution_count": 18,
   "id": "f4efa4da-1c1f-4be2-b861-63279ab41006",
   "metadata": {},
   "outputs": [
    {
     "data": {
      "text/plain": [
       "N    417362\n",
       "0    257431\n",
       "Y    199893\n",
       "T     15187\n",
       "1        23\n",
       "R        14\n",
       "`        11\n",
       "2         6\n",
       "C         2\n",
       "3         1\n",
       ",         1\n",
       "7         1\n",
       "A         1\n",
       "5         1\n",
       ".         1\n",
       "4         1\n",
       "-         1\n",
       "Q         1\n",
       "Name: revlinecr, dtype: int64"
      ]
     },
     "execution_count": 18,
     "metadata": {},
     "output_type": "execute_result"
    }
   ],
   "source": [
    "data['revlinecr'].value_counts()"
   ]
  },
  {
   "cell_type": "code",
   "execution_count": 19,
   "id": "b91061ce-a4fb-459e-817c-d99a3950653e",
   "metadata": {},
   "outputs": [],
   "source": [
    "data['revlinecr'] = data['revlinecr'].str.replace('0', 'undefined')\n",
    "data['revlinecr'] = data['revlinecr'].str.replace('T', 'undefined')\n",
    "data['revlinecr'] = data['revlinecr'].str.replace('1', 'undefined')\n",
    "data['revlinecr'] = data['revlinecr'].str.replace('R', 'undefined')\n",
    "data['revlinecr'] = data['revlinecr'].str.replace('`', 'undefined')\n",
    "data['revlinecr'] = data['revlinecr'].str.replace('2', 'undefined')\n",
    "data['revlinecr'] = data['revlinecr'].str.replace('C', 'undefined')\n",
    "data['revlinecr'] = data['revlinecr'].str.replace('3', 'undefined')\n",
    "data['revlinecr'] = data['revlinecr'].str.replace(',', 'undefined')\n",
    "data['revlinecr'] = data['revlinecr'].str.replace('7', 'undefined')\n",
    "data['revlinecr'] = data['revlinecr'].str.replace('A', 'undefined')\n",
    "data['revlinecr'] = data['revlinecr'].str.replace('5', 'undefined')\n",
    "data['revlinecr'] = data['revlinecr'].str.replace('.', 'undefined')\n",
    "data['revlinecr'] = data['revlinecr'].str.replace('4', 'undefined')\n",
    "data['revlinecr'] = data['revlinecr'].str.replace('-', 'undefined')\n",
    "data['revlinecr'] = data['revlinecr'].str.replace('Q', 'undefined')"
   ]
  },
  {
   "cell_type": "code",
   "execution_count": 20,
   "id": "eddd6df4-f414-4348-9f37-af1e27972fe1",
   "metadata": {},
   "outputs": [
    {
     "data": {
      "text/plain": [
       "N            417362\n",
       "undefined    272683\n",
       "Y            199893\n",
       "Name: revlinecr, dtype: int64"
      ]
     },
     "execution_count": 20,
     "metadata": {},
     "output_type": "execute_result"
    }
   ],
   "source": [
    "data['revlinecr'].value_counts()"
   ]
  },
  {
   "cell_type": "code",
   "execution_count": 21,
   "id": "3485a0f1-db05-4351-bff9-d1635108d3a1",
   "metadata": {},
   "outputs": [
    {
     "data": {
      "text/plain": [
       "(889938, 16)"
      ]
     },
     "execution_count": 21,
     "metadata": {},
     "output_type": "execute_result"
    }
   ],
   "source": [
    "data.shape"
   ]
  },
  {
   "cell_type": "code",
   "execution_count": 22,
   "id": "1e4aca59-6f03-4fc1-968e-534c957579f6",
   "metadata": {},
   "outputs": [],
   "source": [
    "data = data.drop(data[data['new/exist'] == 0.0].index)\n",
    "data = data.drop(data[data['lowdoc'] == 'undefined'].index)\n",
    "data = data.drop(data[data['revlinecr'] == 'undefined'].index)"
   ]
  },
  {
   "cell_type": "code",
   "execution_count": 23,
   "id": "5f4c66f2-ab68-4154-a018-9135c0c5cfc6",
   "metadata": {},
   "outputs": [
    {
     "data": {
      "text/plain": [
       "(613723, 16)"
      ]
     },
     "execution_count": 23,
     "metadata": {},
     "output_type": "execute_result"
    }
   ],
   "source": [
    "data.shape"
   ]
  },
  {
   "cell_type": "markdown",
   "id": "086cae76-8e9c-4e4d-abe2-9e536397f68a",
   "metadata": {},
   "source": [
    "### 2. Miramos el tipo de columnas que tenemos"
   ]
  },
  {
   "cell_type": "code",
   "execution_count": 24,
   "id": "138e0392-3f36-47f5-ad07-238f47db3985",
   "metadata": {},
   "outputs": [
    {
     "data": {
      "text/plain": [
       "zip                    int64\n",
       "industry               int64\n",
       "loan_term              int64\n",
       "employees              int64\n",
       "new/exist            float64\n",
       "jobs_created           int64\n",
       "jobs_retained          int64\n",
       "urban/rural            int64\n",
       "revlinecr             object\n",
       "lowdoc                object\n",
       "amount_disbursed      object\n",
       "balancegross          object\n",
       "loan_status           object\n",
       "chargedoff_amount     object\n",
       "grappv                object\n",
       "sba_appv              object\n",
       "dtype: object"
      ]
     },
     "execution_count": 24,
     "metadata": {},
     "output_type": "execute_result"
    }
   ],
   "source": [
    "data.dtypes"
   ]
  },
  {
   "cell_type": "code",
   "execution_count": 25,
   "id": "a79e6d69-df6c-4062-9059-1d48f4c82fdd",
   "metadata": {},
   "outputs": [
    {
     "name": "stdout",
     "output_type": "stream",
     "text": [
      "zip 30200\n",
      "industry 1305\n",
      "loan_term 406\n",
      "employees 529\n",
      "new/exist 2\n",
      "jobs_created 222\n",
      "jobs_retained 315\n",
      "urban/rural 3\n",
      "revlinecr 2\n",
      "lowdoc 2\n",
      "amount_disbursed 106878\n",
      "balancegross 8\n",
      "loan_status 2\n",
      "chargedoff_amount 60961\n",
      "grappv 17229\n",
      "sba_appv 31214\n"
     ]
    }
   ],
   "source": [
    "# Mirando los valores únicos, nos hemos dado cuenta que 'city' por ejemplo devuelve unos 3000...\n",
    "#  por lo que decidimos eliminarlo ya que sino al pasarlo a numerico, nos agrandaria demasiado el dataset\n",
    "for c in data.columns.tolist():         \n",
    "    print(c, len(data[c].unique()))"
   ]
  },
  {
   "cell_type": "markdown",
   "id": "3fdc1041-3843-4088-962b-091076024bfb",
   "metadata": {
    "tags": []
   },
   "source": [
    "### 2.1 Valores categoricos"
   ]
  },
  {
   "cell_type": "code",
   "execution_count": 26,
   "id": "38c89619-8f27-4631-a06a-a857affafbad",
   "metadata": {},
   "outputs": [
    {
     "data": {
      "text/html": [
       "<div>\n",
       "<style scoped>\n",
       "    .dataframe tbody tr th:only-of-type {\n",
       "        vertical-align: middle;\n",
       "    }\n",
       "\n",
       "    .dataframe tbody tr th {\n",
       "        vertical-align: top;\n",
       "    }\n",
       "\n",
       "    .dataframe thead th {\n",
       "        text-align: right;\n",
       "    }\n",
       "</style>\n",
       "<table border=\"1\" class=\"dataframe\">\n",
       "  <thead>\n",
       "    <tr style=\"text-align: right;\">\n",
       "      <th></th>\n",
       "      <th>zip</th>\n",
       "      <th>industry</th>\n",
       "      <th>loan_term</th>\n",
       "      <th>employees</th>\n",
       "      <th>new/exist</th>\n",
       "      <th>jobs_created</th>\n",
       "      <th>jobs_retained</th>\n",
       "      <th>urban/rural</th>\n",
       "      <th>revlinecr</th>\n",
       "      <th>lowdoc</th>\n",
       "      <th>amount_disbursed</th>\n",
       "      <th>balancegross</th>\n",
       "      <th>loan_status</th>\n",
       "      <th>chargedoff_amount</th>\n",
       "      <th>grappv</th>\n",
       "      <th>sba_appv</th>\n",
       "    </tr>\n",
       "  </thead>\n",
       "  <tbody>\n",
       "    <tr>\n",
       "      <th>0</th>\n",
       "      <td>47711</td>\n",
       "      <td>451120</td>\n",
       "      <td>84</td>\n",
       "      <td>4</td>\n",
       "      <td>2.0</td>\n",
       "      <td>0</td>\n",
       "      <td>0</td>\n",
       "      <td>0</td>\n",
       "      <td>N</td>\n",
       "      <td>Y</td>\n",
       "      <td>60000.00</td>\n",
       "      <td>0.00</td>\n",
       "      <td>P I F</td>\n",
       "      <td>0.00</td>\n",
       "      <td>60000.00</td>\n",
       "      <td>48000.00</td>\n",
       "    </tr>\n",
       "  </tbody>\n",
       "</table>\n",
       "</div>"
      ],
      "text/plain": [
       "     zip  industry  loan_term  employees  new/exist  jobs_created  \\\n",
       "0  47711    451120         84          4        2.0             0   \n",
       "\n",
       "   jobs_retained  urban/rural revlinecr lowdoc amount_disbursed balancegross  \\\n",
       "0              0            0         N      Y        60000.00         0.00    \n",
       "\n",
       "  loan_status chargedoff_amount     grappv   sba_appv  \n",
       "0       P I F             0.00   60000.00   48000.00   "
      ]
     },
     "execution_count": 26,
     "metadata": {},
     "output_type": "execute_result"
    }
   ],
   "source": [
    "data.head(1)"
   ]
  },
  {
   "cell_type": "code",
   "execution_count": 27,
   "id": "68c02509-6426-4798-8539-5a17d9956afd",
   "metadata": {},
   "outputs": [],
   "source": [
    "# Estas columnas deberían ser numericas, y nos las marca como 'object'\n",
    "data['amount_disbursed'] = pd.to_numeric(data['amount_disbursed'])\n",
    "data['balancegross'] = pd.to_numeric(data['balancegross'])\n",
    "data['chargedoff_amount'] = pd.to_numeric(data['chargedoff_amount'])\n",
    "data['grappv'] = pd.to_numeric(data['grappv'])\n",
    "data['sba_appv'] = pd.to_numeric(data['sba_appv'])"
   ]
  },
  {
   "cell_type": "code",
   "execution_count": 28,
   "id": "362116f7-17eb-49cc-88f7-05d6762c8851",
   "metadata": {},
   "outputs": [
    {
     "data": {
      "text/html": [
       "<div>\n",
       "<style scoped>\n",
       "    .dataframe tbody tr th:only-of-type {\n",
       "        vertical-align: middle;\n",
       "    }\n",
       "\n",
       "    .dataframe tbody tr th {\n",
       "        vertical-align: top;\n",
       "    }\n",
       "\n",
       "    .dataframe thead th {\n",
       "        text-align: right;\n",
       "    }\n",
       "</style>\n",
       "<table border=\"1\" class=\"dataframe\">\n",
       "  <thead>\n",
       "    <tr style=\"text-align: right;\">\n",
       "      <th></th>\n",
       "      <th>revlinecr</th>\n",
       "      <th>lowdoc</th>\n",
       "      <th>loan_status</th>\n",
       "    </tr>\n",
       "  </thead>\n",
       "  <tbody>\n",
       "    <tr>\n",
       "      <th>0</th>\n",
       "      <td>N</td>\n",
       "      <td>Y</td>\n",
       "      <td>P I F</td>\n",
       "    </tr>\n",
       "    <tr>\n",
       "      <th>1</th>\n",
       "      <td>N</td>\n",
       "      <td>Y</td>\n",
       "      <td>P I F</td>\n",
       "    </tr>\n",
       "    <tr>\n",
       "      <th>2</th>\n",
       "      <td>N</td>\n",
       "      <td>N</td>\n",
       "      <td>P I F</td>\n",
       "    </tr>\n",
       "  </tbody>\n",
       "</table>\n",
       "</div>"
      ],
      "text/plain": [
       "  revlinecr lowdoc loan_status\n",
       "0         N      Y       P I F\n",
       "1         N      Y       P I F\n",
       "2         N      N       P I F"
      ]
     },
     "execution_count": 28,
     "metadata": {},
     "output_type": "execute_result"
    }
   ],
   "source": [
    "def getcat(data):\n",
    "    categoric = data.loc[:,data.dtypes==object]\n",
    "    return categoric\n",
    "categorical = getcat(data)\n",
    "categorical.head(3)"
   ]
  },
  {
   "cell_type": "code",
   "execution_count": 29,
   "id": "3cdb10d2-e546-4766-89b5-c0d1c4fdd3be",
   "metadata": {},
   "outputs": [
    {
     "data": {
      "text/html": [
       "<div>\n",
       "<style scoped>\n",
       "    .dataframe tbody tr th:only-of-type {\n",
       "        vertical-align: middle;\n",
       "    }\n",
       "\n",
       "    .dataframe tbody tr th {\n",
       "        vertical-align: top;\n",
       "    }\n",
       "\n",
       "    .dataframe thead th {\n",
       "        text-align: right;\n",
       "    }\n",
       "</style>\n",
       "<table border=\"1\" class=\"dataframe\">\n",
       "  <thead>\n",
       "    <tr style=\"text-align: right;\">\n",
       "      <th></th>\n",
       "      <th>revlinecr_Y</th>\n",
       "      <th>lowdoc_Y</th>\n",
       "      <th>loan_status_P I F</th>\n",
       "    </tr>\n",
       "  </thead>\n",
       "  <tbody>\n",
       "    <tr>\n",
       "      <th>0</th>\n",
       "      <td>0</td>\n",
       "      <td>1</td>\n",
       "      <td>1</td>\n",
       "    </tr>\n",
       "    <tr>\n",
       "      <th>1</th>\n",
       "      <td>0</td>\n",
       "      <td>1</td>\n",
       "      <td>1</td>\n",
       "    </tr>\n",
       "    <tr>\n",
       "      <th>2</th>\n",
       "      <td>0</td>\n",
       "      <td>0</td>\n",
       "      <td>1</td>\n",
       "    </tr>\n",
       "    <tr>\n",
       "      <th>3</th>\n",
       "      <td>0</td>\n",
       "      <td>1</td>\n",
       "      <td>1</td>\n",
       "    </tr>\n",
       "    <tr>\n",
       "      <th>4</th>\n",
       "      <td>0</td>\n",
       "      <td>0</td>\n",
       "      <td>1</td>\n",
       "    </tr>\n",
       "  </tbody>\n",
       "</table>\n",
       "</div>"
      ],
      "text/plain": [
       "   revlinecr_Y  lowdoc_Y  loan_status_P I F\n",
       "0            0         1                  1\n",
       "1            0         1                  1\n",
       "2            0         0                  1\n",
       "3            0         1                  1\n",
       "4            0         0                  1"
      ]
     },
     "execution_count": 29,
     "metadata": {},
     "output_type": "execute_result"
    }
   ],
   "source": [
    "def convcat(categoric):\n",
    "    categ = pd.get_dummies(categoric, columns=categoric.columns, drop_first=True)\n",
    "    return categ\n",
    "fin_cat = convcat(categorical)\n",
    "fin_cat.head()"
   ]
  },
  {
   "cell_type": "code",
   "execution_count": 30,
   "id": "11a1e90f-c2ee-4561-878b-499d5af2b559",
   "metadata": {
    "tags": []
   },
   "outputs": [
    {
     "name": "stdout",
     "output_type": "stream",
     "text": [
      "(613723, 3)\n",
      "Index(['revlinecr_Y', 'lowdoc_Y', 'loan_status_P I F'], dtype='object')\n"
     ]
    }
   ],
   "source": [
    "print(fin_cat.shape)\n",
    "print(fin_cat.columns)"
   ]
  },
  {
   "cell_type": "code",
   "execution_count": 31,
   "id": "ec51a88c-dbc8-42d4-9603-b75a65fc15cd",
   "metadata": {},
   "outputs": [
    {
     "name": "stdout",
     "output_type": "stream",
     "text": [
      "(613723, 3)\n",
      "Index(['revlinecr', 'lowdoc', 'loan_status'], dtype='object')\n"
     ]
    }
   ],
   "source": [
    "print(categorical.shape)\n",
    "print(categorical.columns)"
   ]
  },
  {
   "cell_type": "markdown",
   "id": "6c07446d-12a6-4cf9-a97a-20c86dff0f46",
   "metadata": {},
   "source": [
    "### 2.2 Numerical"
   ]
  },
  {
   "cell_type": "code",
   "execution_count": 32,
   "id": "ae1ca57a-5106-4438-95a8-f9072769243d",
   "metadata": {},
   "outputs": [
    {
     "data": {
      "text/plain": [
       "(613723, 13)"
      ]
     },
     "execution_count": 32,
     "metadata": {},
     "output_type": "execute_result"
    }
   ],
   "source": [
    "numerical = data.drop(list(categorical.columns),axis = 1)\n",
    "numerical.shape"
   ]
  },
  {
   "cell_type": "code",
   "execution_count": 33,
   "id": "ea8ee031-9dcf-484a-a1d9-f116547d7a09",
   "metadata": {},
   "outputs": [],
   "source": [
    "import matplotlib.pyplot as plt\n",
    "from matplotlib import style\n",
    "import seaborn as sns"
   ]
  },
  {
   "cell_type": "code",
   "execution_count": 34,
   "id": "7510d44c-4516-40ed-ae7e-b22d8fe68528",
   "metadata": {},
   "outputs": [
    {
     "data": {
      "image/png": "[encoded data removed]",
      "text/plain": [
       "<Figure size 720x576 with 2 Axes>"
      ]
     },
     "metadata": {
      "needs_background": "light"
     },
     "output_type": "display_data"
    }
   ],
   "source": [
    "correlations_matrix = data.corr()\n",
    "mask = np.zeros_like(correlations_matrix)\n",
    "mask[np.triu_indices_from(mask)] = True\n",
    "fig, ax = plt.subplots(figsize=(10, 8))\n",
    "ax = sns.heatmap(correlations_matrix, mask=mask, annot=True)\n",
    "plt.show()"
   ]
  },
  {
   "cell_type": "code",
   "execution_count": 35,
   "id": "5b397e50-28c6-4ba6-b1d2-05b52d48c0ce",
   "metadata": {},
   "outputs": [
    {
     "data": {
      "image/png": "[encoded data removed]",
      "text/plain": [
       "<Figure size 432x288 with 1 Axes>"
      ]
     },
     "metadata": {
      "needs_background": "light"
     },
     "output_type": "display_data"
    }
   ],
   "source": [
    "fig, ax = plt.subplots(1, 1, figsize=(6,4))\n",
    "ax.plot(data['jobs_retained'], label='jobs_retained')\n",
    "ax.plot(data['jobs_created'], label='jobs_created')\n",
    "ax.set_xlabel('jobs_retained')\n",
    "ax.set_ylabel('jobs_created')\n",
    "ax.set_title('corr Jobs retained vs created')\n",
    "ax.legend();"
   ]
  },
  {
   "cell_type": "code",
   "execution_count": 36,
   "id": "95c76e32-69bd-4a85-9f7c-ff5234d61a68",
   "metadata": {},
   "outputs": [
    {
     "data": {
      "image/png": "[encoded data removed]",
      "text/plain": [
       "<Figure size 432x288 with 1 Axes>"
      ]
     },
     "metadata": {
      "needs_background": "light"
     },
     "output_type": "display_data"
    }
   ],
   "source": [
    "fig, ax = plt.subplots(1, 1, figsize=(6,4))\n",
    "ax.scatter(x=data['jobs_retained'], y=data['jobs_created'], alpha= 0.8)\n",
    "ax.set_xlabel('jobs_retained')\n",
    "ax.set_ylabel('jobs_created');"
   ]
  },
  {
   "cell_type": "code",
   "execution_count": 37,
   "id": "6d47dffb-e45f-4634-a5e3-f7e49854050a",
   "metadata": {},
   "outputs": [
    {
     "name": "stdout",
     "output_type": "stream",
     "text": [
      "RETAINED\n",
      "0      314799\n",
      "1       59893\n",
      "2       50578\n",
      "3       33470\n",
      "4       26349\n",
      "        ...  \n",
      "247         1\n",
      "675         1\n",
      "281         1\n",
      "260         1\n",
      "198         1\n",
      "Name: jobs_retained, Length: 315, dtype: int64\n",
      "------------------\n",
      "CREATED\n",
      "0      452059\n",
      "1       40210\n",
      "2       34462\n",
      "3       16230\n",
      "4       11418\n",
      "        ...  \n",
      "252         1\n",
      "183         1\n",
      "210         1\n",
      "166         1\n",
      "860         1\n",
      "Name: jobs_created, Length: 222, dtype: int64\n"
     ]
    }
   ],
   "source": [
    "print('RETAINED')\n",
    "print(data['jobs_retained'].value_counts())\n",
    "print('------------------')\n",
    "print('CREATED')\n",
    "print(data['jobs_created'].value_counts())"
   ]
  },
  {
   "cell_type": "markdown",
   "id": "ede775f1-b60f-4fe3-91dd-486ba2c1bb83",
   "metadata": {},
   "source": [
    "### 3. Juntamos los valores numericos con los que eran categoricos"
   ]
  },
  {
   "cell_type": "code",
   "execution_count": 38,
   "id": "acb68ff6-36d0-4472-ac6a-96ecfd386a2a",
   "metadata": {},
   "outputs": [
    {
     "name": "stdout",
     "output_type": "stream",
     "text": [
      "     zip  industry  loan_term  employees  new/exist  jobs_created  \\\n",
      "0  47711    451120         84          4        2.0             0   \n",
      "1  46526    722410         60          2        2.0             0   \n",
      "2  47401    621210        180          7        1.0             0   \n",
      "\n",
      "   jobs_retained  urban/rural  amount_disbursed  balancegross  \\\n",
      "0              0            0           60000.0           0.0   \n",
      "1              0            0           40000.0           0.0   \n",
      "2              0            0          287000.0           0.0   \n",
      "\n",
      "   chargedoff_amount    grappv  sba_appv  revlinecr_Y  lowdoc_Y  \\\n",
      "0                0.0   60000.0   48000.0            0         1   \n",
      "1                0.0   40000.0   32000.0            0         1   \n",
      "2                0.0  287000.0  215250.0            0         0   \n",
      "\n",
      "   loan_status_P I F  \n",
      "0                  1  \n",
      "1                  1  \n",
      "2                  1  \n",
      "(613723, 16)\n"
     ]
    }
   ],
   "source": [
    "df = pd.concat([numerical, fin_cat], axis = 1)\n",
    "print(df.head(3))\n",
    "print(df.shape)"
   ]
  },
  {
   "cell_type": "markdown",
   "id": "dd9009de-2aab-440b-b855-6a5ae286954a",
   "metadata": {},
   "source": [
    "### 4. Outliers"
   ]
  },
  {
   "cell_type": "code",
   "execution_count": 39,
   "id": "ecf361af-e55d-4ae9-8b53-2ef39272e66d",
   "metadata": {},
   "outputs": [],
   "source": [
    "df_fin = df"
   ]
  },
  {
   "cell_type": "code",
   "execution_count": 40,
   "id": "fa9aaa9d-6548-4dd0-83c1-2a72d7172626",
   "metadata": {
    "tags": []
   },
   "outputs": [],
   "source": [
    "import scipy.stats as stats"
   ]
  },
  {
   "cell_type": "code",
   "execution_count": 41,
   "id": "fb2adff1-8d7b-43e5-8e36-bd8cc84372a3",
   "metadata": {},
   "outputs": [],
   "source": [
    "# q1 = df.quantile(q=.25)\n",
    "# q3 = df.quantile(q=.75)\n",
    "# iqr = df.apply(stats.iqr)\n",
    "\n",
    "# df_fin = df[~((df < (q1-1.5*iqr)) | (df > (q3+1.5*iqr))).any(axis=1)]"
   ]
  },
  {
   "cell_type": "code",
   "execution_count": 42,
   "id": "5343f0f8-5f8a-45d3-9467-4379467058bb",
   "metadata": {},
   "outputs": [],
   "source": [
    "# df_fin.shape"
   ]
  },
  {
   "cell_type": "markdown",
   "id": "859aaf64-a396-4148-9e7a-5b3f567e25a5",
   "metadata": {},
   "source": [
    "### 5. Normalizamos"
   ]
  },
  {
   "cell_type": "code",
   "execution_count": 43,
   "id": "d0de060e-9a2e-4ea8-9c9f-f8257aea764a",
   "metadata": {},
   "outputs": [],
   "source": [
    "from sklearn.preprocessing import StandardScaler\n",
    "from sklearn import preprocessing"
   ]
  },
  {
   "cell_type": "code",
   "execution_count": 44,
   "id": "2fc5b603-cdbc-464f-b478-698632c4d34b",
   "metadata": {},
   "outputs": [
    {
     "data": {
      "text/html": [
       "<div>\n",
       "<style scoped>\n",
       "    .dataframe tbody tr th:only-of-type {\n",
       "        vertical-align: middle;\n",
       "    }\n",
       "\n",
       "    .dataframe tbody tr th {\n",
       "        vertical-align: top;\n",
       "    }\n",
       "\n",
       "    .dataframe thead th {\n",
       "        text-align: right;\n",
       "    }\n",
       "</style>\n",
       "<table border=\"1\" class=\"dataframe\">\n",
       "  <thead>\n",
       "    <tr style=\"text-align: right;\">\n",
       "      <th></th>\n",
       "      <th>zip</th>\n",
       "      <th>industry</th>\n",
       "      <th>loan_term</th>\n",
       "      <th>employees</th>\n",
       "      <th>new/exist</th>\n",
       "      <th>jobs_created</th>\n",
       "      <th>jobs_retained</th>\n",
       "      <th>urban/rural</th>\n",
       "      <th>amount_disbursed</th>\n",
       "      <th>balancegross</th>\n",
       "      <th>chargedoff_amount</th>\n",
       "      <th>grappv</th>\n",
       "      <th>sba_appv</th>\n",
       "      <th>revlinecr_Y</th>\n",
       "      <th>lowdoc_Y</th>\n",
       "      <th>loan_status_P I F</th>\n",
       "    </tr>\n",
       "  </thead>\n",
       "  <tbody>\n",
       "    <tr>\n",
       "      <th>0</th>\n",
       "      <td>-0.166322</td>\n",
       "      <td>0.285709</td>\n",
       "      <td>-0.278550</td>\n",
       "      <td>-0.105999</td>\n",
       "      <td>1.642063</td>\n",
       "      <td>-0.039016</td>\n",
       "      <td>-0.046723</td>\n",
       "      <td>-1.060245</td>\n",
       "      <td>-0.465652</td>\n",
       "      <td>-0.00198</td>\n",
       "      <td>-0.212048</td>\n",
       "      <td>-0.432243</td>\n",
       "      <td>-0.408611</td>\n",
       "      <td>-0.694414</td>\n",
       "      <td>3.119533</td>\n",
       "      <td>0.469708</td>\n",
       "    </tr>\n",
       "    <tr>\n",
       "      <th>1</th>\n",
       "      <td>-0.204493</td>\n",
       "      <td>1.311934</td>\n",
       "      <td>-0.596437</td>\n",
       "      <td>-0.132587</td>\n",
       "      <td>1.642063</td>\n",
       "      <td>-0.039016</td>\n",
       "      <td>-0.046723</td>\n",
       "      <td>-1.060245</td>\n",
       "      <td>-0.540636</td>\n",
       "      <td>-0.00198</td>\n",
       "      <td>-0.212048</td>\n",
       "      <td>-0.509945</td>\n",
       "      <td>-0.484658</td>\n",
       "      <td>-0.694414</td>\n",
       "      <td>3.119533</td>\n",
       "      <td>0.469708</td>\n",
       "    </tr>\n",
       "    <tr>\n",
       "      <th>2</th>\n",
       "      <td>-0.176308</td>\n",
       "      <td>0.929119</td>\n",
       "      <td>0.993000</td>\n",
       "      <td>-0.066118</td>\n",
       "      <td>-0.608990</td>\n",
       "      <td>-0.039016</td>\n",
       "      <td>-0.046723</td>\n",
       "      <td>-1.060245</td>\n",
       "      <td>0.385416</td>\n",
       "      <td>-0.00198</td>\n",
       "      <td>-0.212048</td>\n",
       "      <td>0.449680</td>\n",
       "      <td>0.386326</td>\n",
       "      <td>-0.694414</td>\n",
       "      <td>-0.320561</td>\n",
       "      <td>0.469708</td>\n",
       "    </tr>\n",
       "    <tr>\n",
       "      <th>3</th>\n",
       "      <td>0.680879</td>\n",
       "      <td>-1.420769</td>\n",
       "      <td>-0.596437</td>\n",
       "      <td>-0.132587</td>\n",
       "      <td>-0.608990</td>\n",
       "      <td>-0.039016</td>\n",
       "      <td>-0.046723</td>\n",
       "      <td>-1.060245</td>\n",
       "      <td>-0.559382</td>\n",
       "      <td>-0.00198</td>\n",
       "      <td>-0.212048</td>\n",
       "      <td>-0.529371</td>\n",
       "      <td>-0.503670</td>\n",
       "      <td>-0.694414</td>\n",
       "      <td>3.119533</td>\n",
       "      <td>0.469708</td>\n",
       "    </tr>\n",
       "    <tr>\n",
       "      <th>4</th>\n",
       "      <td>-0.646599</td>\n",
       "      <td>-1.420769</td>\n",
       "      <td>1.787719</td>\n",
       "      <td>0.026938</td>\n",
       "      <td>-0.608990</td>\n",
       "      <td>-0.014513</td>\n",
       "      <td>-0.022228</td>\n",
       "      <td>-1.060245</td>\n",
       "      <td>0.167963</td>\n",
       "      <td>-0.00198</td>\n",
       "      <td>-0.212048</td>\n",
       "      <td>0.224343</td>\n",
       "      <td>0.451679</td>\n",
       "      <td>-0.694414</td>\n",
       "      <td>-0.320561</td>\n",
       "      <td>0.469708</td>\n",
       "    </tr>\n",
       "  </tbody>\n",
       "</table>\n",
       "</div>"
      ],
      "text/plain": [
       "        zip  industry  loan_term  employees  new/exist  jobs_created  \\\n",
       "0 -0.166322  0.285709  -0.278550  -0.105999   1.642063     -0.039016   \n",
       "1 -0.204493  1.311934  -0.596437  -0.132587   1.642063     -0.039016   \n",
       "2 -0.176308  0.929119   0.993000  -0.066118  -0.608990     -0.039016   \n",
       "3  0.680879 -1.420769  -0.596437  -0.132587  -0.608990     -0.039016   \n",
       "4 -0.646599 -1.420769   1.787719   0.026938  -0.608990     -0.014513   \n",
       "\n",
       "   jobs_retained  urban/rural  amount_disbursed  balancegross  \\\n",
       "0      -0.046723    -1.060245         -0.465652      -0.00198   \n",
       "1      -0.046723    -1.060245         -0.540636      -0.00198   \n",
       "2      -0.046723    -1.060245          0.385416      -0.00198   \n",
       "3      -0.046723    -1.060245         -0.559382      -0.00198   \n",
       "4      -0.022228    -1.060245          0.167963      -0.00198   \n",
       "\n",
       "   chargedoff_amount    grappv  sba_appv  revlinecr_Y  lowdoc_Y  \\\n",
       "0          -0.212048 -0.432243 -0.408611    -0.694414  3.119533   \n",
       "1          -0.212048 -0.509945 -0.484658    -0.694414  3.119533   \n",
       "2          -0.212048  0.449680  0.386326    -0.694414 -0.320561   \n",
       "3          -0.212048 -0.529371 -0.503670    -0.694414  3.119533   \n",
       "4          -0.212048  0.224343  0.451679    -0.694414 -0.320561   \n",
       "\n",
       "   loan_status_P I F  \n",
       "0           0.469708  \n",
       "1           0.469708  \n",
       "2           0.469708  \n",
       "3           0.469708  \n",
       "4           0.469708  "
      ]
     },
     "execution_count": 44,
     "metadata": {},
     "output_type": "execute_result"
    }
   ],
   "source": [
    "for c in df_fin[:-1]:\n",
    "    df_fin[c] = StandardScaler().fit_transform(df_fin[c].values.reshape(-1, 1))\n",
    "df_fin.head(5)"
   ]
  },
  {
   "cell_type": "markdown",
   "id": "1220f104-5eb2-4637-afa0-6f509b54ffb0",
   "metadata": {},
   "source": [
    "### 6. Modeling"
   ]
  },
  {
   "cell_type": "markdown",
   "id": "98595559-a7b8-4ec6-b62e-2fe2d69cf489",
   "metadata": {},
   "source": [
    "#### 6.1 Modelos"
   ]
  },
  {
   "cell_type": "code",
   "execution_count": 45,
   "id": "4a53280b-6613-455b-b3ca-0bb5d00a3a46",
   "metadata": {},
   "outputs": [],
   "source": [
    "from sklearn.model_selection import train_test_split\n",
    "from sklearn import linear_model\n",
    "from sklearn.metrics import mean_squared_error, r2_score, mean_absolute_error,explained_variance_score"
   ]
  },
  {
   "cell_type": "code",
   "execution_count": 46,
   "id": "6099b428-e751-4cb2-9089-87ae865554ca",
   "metadata": {},
   "outputs": [],
   "source": [
    "from sklearn.linear_model import Lasso       \n",
    "from sklearn.linear_model import Ridge       \n",
    "from sklearn.linear_model import ElasticNet  "
   ]
  },
  {
   "cell_type": "code",
   "execution_count": 47,
   "id": "31eb2c66-0baf-48fb-8f01-dd44280c8e07",
   "metadata": {},
   "outputs": [
    {
     "data": {
      "text/plain": [
       "Index(['zip', 'industry', 'loan_term', 'employees', 'new/exist',\n",
       "       'jobs_created', 'jobs_retained', 'urban/rural', 'amount_disbursed',\n",
       "       'balancegross', 'chargedoff_amount', 'grappv', 'sba_appv',\n",
       "       'revlinecr_Y', 'lowdoc_Y', 'loan_status_P I F'],\n",
       "      dtype='object')"
      ]
     },
     "execution_count": 47,
     "metadata": {},
     "output_type": "execute_result"
    }
   ],
   "source": [
    "df_fin.columns"
   ]
  },
  {
   "cell_type": "code",
   "execution_count": 48,
   "id": "fc0cc379-cbba-4a7a-9028-b1621abc5b9e",
   "metadata": {},
   "outputs": [],
   "source": [
    "df_fin.columns = ['zip', 'industry', 'loan_term', 'employees', 'new/exist',\n",
    "       'jobs_created', 'jobs_retained', 'urban/rural', 'amount_disbursed',\n",
    "       'balancegross', 'chargedoff_amount', 'grappv', 'sba_appv',\n",
    "       'revlinecr_Y', 'lowdoc_Y', 'approval_decision']"
   ]
  },
  {
   "cell_type": "code",
   "execution_count": 49,
   "id": "f8554b52-e364-4c1d-ad0c-46ae9adfea85",
   "metadata": {},
   "outputs": [
    {
     "name": "stdout",
     "output_type": "stream",
     "text": [
      "(613723, 15)\n",
      "(613723,)\n"
     ]
    }
   ],
   "source": [
    "from sklearn.model_selection import train_test_split as tts\n",
    "\n",
    "x = df_fin.drop(columns = ['approval_decision'])\n",
    "y = df_fin['approval_decision']\n",
    "\n",
    "X_train, X_test, y_train, y_test = tts(x, y, test_size=0.2, random_state=42)\n",
    "print(x.shape)\n",
    "print(y.shape)"
   ]
  },
  {
   "cell_type": "code",
   "execution_count": 50,
   "id": "92124ade-3524-4024-9677-daa98a66c5b6",
   "metadata": {},
   "outputs": [],
   "source": [
    "from sklearn.ensemble import RandomForestRegressor as RFR\n",
    "from sklearn.linear_model import Lasso\n",
    "from sklearn.linear_model import Ridge\n",
    "from sklearn.linear_model import ElasticNet\n",
    "\n",
    "rfr=RFR()\n",
    "rfr.fit(X_train, y_train)\n",
    "\n",
    "y_pred_rfr = rfr.predict(X_test)\n",
    "ridge=Ridge()\n",
    "ridge.fit(X_train, y_train)\n",
    "y_pred_ridge = ridge.predict(X_test)\n",
    "\n",
    "elastic=ElasticNet()\n",
    "elastic.fit(X_train, y_train)\n",
    "y_pred_elastic = elastic.predict(X_test)\n",
    "\n",
    "lasso=Lasso()\n",
    "lasso.fit(X_train, y_train)\n",
    "y_pred_lasso = lasso.predict(X_test)\n",
    "\n",
    "from sklearn.linear_model import LinearRegression as LinReg\n",
    "linreg=LinReg()\n",
    "linreg.fit(X_train, y_train)\n",
    "y_pred_linreg=linreg.predict(X_test) \n",
    "\n",
    "from xgboost import XGBRegressor as XGBR\n",
    "xgbr=XGBR()\n",
    "xgbr.fit(X_train, y_train)\n",
    "y_pred_xgbr = xgbr.predict(X_test) \n",
    "\n",
    "from lightgbm import LGBMRegressor as LGBMR\n",
    "lgbmr=LGBMR()\n",
    "lgbmr.fit(X_train, y_train)\n",
    "y_pred_lgbmr = lgbmr.predict(X_test)"
   ]
  },
  {
   "cell_type": "markdown",
   "id": "5c7fa244-17e4-4e76-9018-dbbddb211966",
   "metadata": {},
   "source": [
    "#### 6.2 Validando los modelos"
   ]
  },
  {
   "cell_type": "code",
   "execution_count": 51,
   "id": "45453628-f095-4a2e-8838-a8e7d08e6d3c",
   "metadata": {},
   "outputs": [],
   "source": [
    "models=[linreg, lasso, ridge, elastic, rfr, xgbr, lgbmr]\n",
    "model_names=['linreg', 'lasso', 'ridge', 'elastic', 'rfr', 'xgbr', 'lgbmr']\n",
    "preds=[y_pred_linreg, y_pred_lasso, y_pred_ridge, y_pred_elastic, y_pred_rfr, y_pred_xgbr, y_pred_lgbmr]"
   ]
  },
  {
   "cell_type": "code",
   "execution_count": 52,
   "id": "c490c5ed-1f67-44e8-a639-7b015166aab4",
   "metadata": {},
   "outputs": [
    {
     "name": "stdout",
     "output_type": "stream",
     "text": [
      "Model: linreg, train R2: 0.31062576744069403 -- test R2: 0.32059268988068246\n",
      "Model: lasso, train R2: 0.0 -- test R2: -5.801976697084044e-06\n",
      "Model: ridge, train R2: 0.3106257674058902 -- test R2: 0.32059266966985744\n",
      "Model: elastic, train R2: 0.0 -- test R2: -5.801976697084044e-06\n",
      "Model: rfr, train R2: 0.9940923024474078 -- test R2: 0.9571042643246596\n",
      "Model: xgbr, train R2: 0.9668649828936818 -- test R2: 0.9582616619002361\n",
      "Model: lgbmr, train R2: 0.9630427966738425 -- test R2: 0.9590589611604299\n"
     ]
    }
   ],
   "source": [
    "# R2\n",
    "for i in range(len(models)):\n",
    "    train_score=models[i].score(X_train, y_train)\n",
    "    test_score=models[i].score(X_test, y_test)\n",
    "    print ('Model: {}, train R2: {} -- test R2: {}'.format(model_names[i], train_score, test_score))"
   ]
  },
  {
   "cell_type": "code",
   "execution_count": 53,
   "id": "9f54c63d-5e10-47b8-8f9d-92754fe81195",
   "metadata": {},
   "outputs": [
    {
     "name": "stdout",
     "output_type": "stream",
     "text": [
      "Model: linreg, train MSE: 0.6899242447459772 -- test MSE: 0.6772359349063274\n",
      "Model: lasso, train MSE: 1.0007978426820936 -- test MSE: 0.9968097989621324\n",
      "Model: ridge, train MSE: 0.6899242447808089 -- test MSE: 0.6772359550525588\n",
      "Model: elastic, train MSE: 1.0007978426820936 -- test MSE: 0.9968097989621324\n",
      "Model: rfr, train MSE: 0.005912410965852648 -- test MSE: 0.04275864157022687\n",
      "Model: xgbr, train MSE: 0.033161453637237534 -- test MSE: 0.04160494301932932\n",
      "Model: lgbmr, train MSE: 0.0369866893603819 -- test MSE: 0.04081019191519023\n"
     ]
    }
   ],
   "source": [
    "from sklearn.metrics import mean_squared_error as mse\n",
    "# MSE\n",
    "for i in range(len(models)):\n",
    "\n",
    "    train_mse=mse(models[i].predict(X_train), y_train) \n",
    "    test_mse=mse(preds[i], y_test)\n",
    "\n",
    "    print ('Model: {}, train MSE: {} -- test MSE: {}'.format(model_names[i], train_mse, test_mse))"
   ]
  },
  {
   "cell_type": "code",
   "execution_count": 54,
   "id": "f0b86e29-d391-496b-9797-b6514d8005a0",
   "metadata": {},
   "outputs": [
    {
     "name": "stdout",
     "output_type": "stream",
     "text": [
      "Model: linreg, train RMSE: 0.830616785735743 -- test RMSE: 0.8229434579035958\n",
      "Model: lasso, train RMSE: 1.0003988418036547 -- test RMSE: 0.9984036252749348\n",
      "Model: ridge, train RMSE: 0.8306167857567104 -- test RMSE: 0.8229434701439454\n",
      "Model: elastic, train RMSE: 1.0003988418036547 -- test RMSE: 0.9984036252749348\n",
      "Model: rfr, train RMSE: 0.0768922035440047 -- test RMSE: 0.20678162773860465\n",
      "Model: xgbr, train RMSE: 0.18210286553823785 -- test RMSE: 0.2039728977568572\n",
      "Model: lgbmr, train RMSE: 0.19231923814424262 -- test RMSE: 0.20201532594135088\n"
     ]
    }
   ],
   "source": [
    "# RMSE\n",
    "for i in range(len(models)):\n",
    "\n",
    "    train_rmse=mse(models[i].predict(X_train), y_train)**0.5 \n",
    "    test_rmse=mse(preds[i], y_test)**0.5\n",
    "\n",
    "    print ('Model: {}, train RMSE: {} -- test RMSE: {}'.format(model_names[i], train_rmse, test_rmse))"
   ]
  },
  {
   "cell_type": "code",
   "execution_count": 55,
   "id": "4c874259-ede7-4f5f-a98d-949da739561f",
   "metadata": {},
   "outputs": [
    {
     "name": "stdout",
     "output_type": "stream",
     "text": [
      "Model: linreg, train MAE: 0.624493755574683 -- test MAE: 0.6219145658453874\n",
      "Model: lasso, train MAE: 0.7702319845220554 -- test MAE: 0.7686973495049804\n",
      "Model: ridge, train MAE: 0.6244938198020699 -- test MAE: 0.6219146286492782\n",
      "Model: elastic, train MAE: 0.7702319845220554 -- test MAE: 0.7686973495049804\n",
      "Model: rfr, train MAE: 0.01242214550562848 -- test MAE: 0.03394442826773982\n",
      "Model: xgbr, train MAE: 0.028781070045984198 -- test MAE: 0.03242730481610124\n",
      "Model: lgbmr, train MAE: 0.029754999108617036 -- test MAE: 0.031205265906012056\n"
     ]
    }
   ],
   "source": [
    "# MAE\n",
    "from sklearn.metrics import mean_absolute_error as mae\n",
    "for i in range(len(models)):\n",
    "    train_mae=mae(models[i].predict(X_train), y_train) \n",
    "    test_mae=mae(preds[i], y_test)\n",
    "\n",
    "    print ('Model: {}, train MAE: {} -- test MAE: {}'.format(model_names[i], train_mae, test_mae))"
   ]
  },
  {
   "cell_type": "markdown",
   "id": "a63cb28d-b677-4657-8649-8428edca1bb4",
   "metadata": {},
   "source": [
    "## 7 Para el análisis de Power BI adaptaremos un poco la BBDD"
   ]
  },
  {
   "cell_type": "code",
   "execution_count": 56,
   "id": "7c4fbece-5a98-4607-9886-03d9f96a8068",
   "metadata": {},
   "outputs": [
    {
     "data": {
      "text/plain": [
       "Index(['loannr_chkdgt', 'name', 'city', 'state', 'zip', 'bank', 'bankstate',\n",
       "       'naics', 'approvaldate', 'approvalfy', 'term', 'noemp', 'newexist',\n",
       "       'createjob', 'retainedjob', 'franchisecode', 'urbanrural', 'revlinecr',\n",
       "       'lowdoc', 'chgoffdate', 'disbursementdate', 'disbursementgross',\n",
       "       'balancegross', 'mis_status', 'chgoffpringr', 'grappv', 'sba_appv'],\n",
       "      dtype='object')"
      ]
     },
     "execution_count": 56,
     "metadata": {},
     "output_type": "execute_result"
    }
   ],
   "source": [
    "# guardaremos esta base de datos para el análisis en Power BI\n",
    "P_BI.columns = [e.lower() for e in P_BI.columns]\n",
    "P_BI.columns"
   ]
  },
  {
   "cell_type": "code",
   "execution_count": 57,
   "id": "759e8ddb-344c-41f1-8c4e-e88951b500e0",
   "metadata": {},
   "outputs": [],
   "source": [
    "# eliminamos algunas columnas que ya hemos visto o no queremos incluir en el análisis\n",
    "P_BI = P_BI.drop(['loannr_chkdgt', 'city', 'approvaldate', 'term', 'franchisecode', \n",
    "                  'chgoffdate', 'disbursementdate', 'disbursementgross', ], axis = 1)"
   ]
  },
  {
   "cell_type": "code",
   "execution_count": 58,
   "id": "a918bbab-46bd-4553-ad91-70420fc34901",
   "metadata": {},
   "outputs": [
    {
     "data": {
      "text/plain": [
       "Index(['name', 'state', 'zip', 'bank', 'bankstate', 'naics', 'approvalfy',\n",
       "       'noemp', 'newexist', 'createjob', 'retainedjob', 'urbanrural',\n",
       "       'revlinecr', 'lowdoc', 'balancegross', 'mis_status', 'chgoffpringr',\n",
       "       'grappv', 'sba_appv'],\n",
       "      dtype='object')"
      ]
     },
     "execution_count": 58,
     "metadata": {},
     "output_type": "execute_result"
    }
   ],
   "source": [
    "P_BI = P_BI.dropna()\n",
    "P_BI.columns"
   ]
  },
  {
   "cell_type": "code",
   "execution_count": 59,
   "id": "d0ee4ddf-7968-4a70-bbad-2a6a47a54b28",
   "metadata": {},
   "outputs": [],
   "source": [
    "# renombramos las columnas par una mejor presentación\n",
    "P_BI.columns = ['Empresa', 'Estado empresa', 'Zip', 'Banco', 'Estado Banco', 'Industria', 'Año en que se aprovó',\n",
    "                'Número de empleados', 'Nuevo o existente', 'Puestos de trabajo creados', \n",
    "                'Puestos de trabajo conservados', 'Urbano o rural', 'Línea de crédito renovable', \n",
    "                'Préstamo con poca documentación', 'Saldo bruto', 'Estado del préstamo', 'Importe deducido', \n",
    "                'Importe bruto del préstamo aprobado por el banco', \n",
    "                'Importe garantizado por la SBA del préstamo aprobado']\n",
    "# Una línea de crédito renovable es una cuenta de crédito que le da la opción de pedir prestado hasta su límite de crédito\n",
    "# Un préstamo con poca documentación es una hipoteca que requiere menos documentos"
   ]
  },
  {
   "cell_type": "code",
   "execution_count": 60,
   "id": "948d02de-5a0d-4c55-8a41-4c982aa9e879",
   "metadata": {},
   "outputs": [
    {
     "data": {
      "text/html": [
       "<div>\n",
       "<style scoped>\n",
       "    .dataframe tbody tr th:only-of-type {\n",
       "        vertical-align: middle;\n",
       "    }\n",
       "\n",
       "    .dataframe tbody tr th {\n",
       "        vertical-align: top;\n",
       "    }\n",
       "\n",
       "    .dataframe thead th {\n",
       "        text-align: right;\n",
       "    }\n",
       "</style>\n",
       "<table border=\"1\" class=\"dataframe\">\n",
       "  <thead>\n",
       "    <tr style=\"text-align: right;\">\n",
       "      <th></th>\n",
       "      <th>Empresa</th>\n",
       "      <th>Estado empresa</th>\n",
       "      <th>Zip</th>\n",
       "      <th>Banco</th>\n",
       "      <th>Estado Banco</th>\n",
       "      <th>Industria</th>\n",
       "      <th>Año en que se aprovó</th>\n",
       "      <th>Número de empleados</th>\n",
       "      <th>Nuevo o existente</th>\n",
       "      <th>Puestos de trabajo creados</th>\n",
       "      <th>Puestos de trabajo conservados</th>\n",
       "      <th>Urbano o rural</th>\n",
       "      <th>Línea de crédito renovable</th>\n",
       "      <th>Préstamo con poca documentación</th>\n",
       "      <th>Saldo bruto</th>\n",
       "      <th>Estado del préstamo</th>\n",
       "      <th>Importe deducido</th>\n",
       "      <th>Importe bruto del préstamo aprobado por el banco</th>\n",
       "      <th>Importe garantizado por la SBA del préstamo aprobado</th>\n",
       "    </tr>\n",
       "  </thead>\n",
       "  <tbody>\n",
       "    <tr>\n",
       "      <th>0</th>\n",
       "      <td>ABC HOBBYCRAFT</td>\n",
       "      <td>IN</td>\n",
       "      <td>47711</td>\n",
       "      <td>FIFTH THIRD BANK</td>\n",
       "      <td>OH</td>\n",
       "      <td>451120</td>\n",
       "      <td>1997</td>\n",
       "      <td>4</td>\n",
       "      <td>2.0</td>\n",
       "      <td>0</td>\n",
       "      <td>0</td>\n",
       "      <td>0</td>\n",
       "      <td>N</td>\n",
       "      <td>Y</td>\n",
       "      <td>$0.00</td>\n",
       "      <td>P I F</td>\n",
       "      <td>$0.00</td>\n",
       "      <td>$60,000.00</td>\n",
       "      <td>$48,000.00</td>\n",
       "    </tr>\n",
       "  </tbody>\n",
       "</table>\n",
       "</div>"
      ],
      "text/plain": [
       "          Empresa Estado empresa    Zip             Banco Estado Banco  \\\n",
       "0  ABC HOBBYCRAFT             IN  47711  FIFTH THIRD BANK           OH   \n",
       "\n",
       "   Industria Año en que se aprovó  Número de empleados  Nuevo o existente  \\\n",
       "0     451120                 1997                    4                2.0   \n",
       "\n",
       "   Puestos de trabajo creados  Puestos de trabajo conservados  Urbano o rural  \\\n",
       "0                           0                               0               0   \n",
       "\n",
       "  Línea de crédito renovable Préstamo con poca documentación Saldo bruto  \\\n",
       "0                          N                               Y      $0.00    \n",
       "\n",
       "  Estado del préstamo Importe deducido  \\\n",
       "0               P I F           $0.00    \n",
       "\n",
       "  Importe bruto del préstamo aprobado por el banco  \\\n",
       "0                                      $60,000.00    \n",
       "\n",
       "  Importe garantizado por la SBA del préstamo aprobado  \n",
       "0                                        $48,000.00     "
      ]
     },
     "execution_count": 60,
     "metadata": {},
     "output_type": "execute_result"
    }
   ],
   "source": [
    "P_BI.head(1)"
   ]
  },
  {
   "cell_type": "code",
   "execution_count": 61,
   "id": "a07f4d37-c7b5-4d4d-a289-6168ff8be626",
   "metadata": {},
   "outputs": [],
   "source": [
    "# eliminamos el signo $ de las columnas\n",
    "lista_col_dollars = ['Saldo bruto','Importe deducido','Importe bruto del préstamo aprobado por el banco','Importe garantizado por la SBA del préstamo aprobado']\n",
    "for b in lista_col_dollars: \n",
    "    P_BI[b] = P_BI[b].str.replace('$', '').str.replace(',','')"
   ]
  },
  {
   "cell_type": "code",
   "execution_count": 62,
   "id": "3fbbeab0-997a-44a6-a198-ae152d8f1a6f",
   "metadata": {
    "tags": []
   },
   "outputs": [],
   "source": [
    "# limpiamos los valores erroneos\n",
    "P_BI['Préstamo con poca documentación'] = P_BI['Préstamo con poca documentación'].str.replace('0', 'undefined')\n",
    "P_BI['Préstamo con poca documentación'] = P_BI['Préstamo con poca documentación'].str.replace('C', 'undefined')\n",
    "P_BI['Préstamo con poca documentación'] = P_BI['Préstamo con poca documentación'].str.replace('C', 'undefined')\n",
    "P_BI['Préstamo con poca documentación'] = P_BI['Préstamo con poca documentación'].str.replace('S', 'undefined')\n",
    "P_BI['Préstamo con poca documentación'] = P_BI['Préstamo con poca documentación'].str.replace('A', 'undefined')\n",
    "P_BI['Préstamo con poca documentación'] = P_BI['Préstamo con poca documentación'].str.replace('R', 'undefined')\n",
    "P_BI['Préstamo con poca documentación'] = P_BI['Préstamo con poca documentación'].str.replace('1', 'undefined')\n",
    "\n",
    "P_BI['Línea de crédito renovable'] = P_BI['Línea de crédito renovable'].str.replace('0', 'undefined')\n",
    "P_BI['Línea de crédito renovable'] = P_BI['Línea de crédito renovable'].str.replace('T', 'undefined')\n",
    "P_BI['Línea de crédito renovable'] = P_BI['Línea de crédito renovable'].str.replace('1', 'undefined')\n",
    "P_BI['Línea de crédito renovable'] = P_BI['Línea de crédito renovable'].str.replace('R', 'undefined')\n",
    "P_BI['Línea de crédito renovable'] = P_BI['Línea de crédito renovable'].str.replace('`', 'undefined')\n",
    "P_BI['Línea de crédito renovable'] = P_BI['Línea de crédito renovable'].str.replace('2', 'undefined')\n",
    "P_BI['Línea de crédito renovable'] = P_BI['Línea de crédito renovable'].str.replace('C', 'undefined')\n",
    "P_BI['Línea de crédito renovable'] = P_BI['Línea de crédito renovable'].str.replace('3', 'undefined')\n",
    "P_BI['Línea de crédito renovable'] = P_BI['Línea de crédito renovable'].str.replace(',', 'undefined')\n",
    "P_BI['Línea de crédito renovable'] = P_BI['Línea de crédito renovable'].str.replace('7', 'undefined')\n",
    "P_BI['Línea de crédito renovable'] = P_BI['Línea de crédito renovable'].str.replace('A', 'undefined')\n",
    "P_BI['Línea de crédito renovable'] = P_BI['Línea de crédito renovable'].str.replace('5', 'undefined')\n",
    "P_BI['Línea de crédito renovable'] = P_BI['Línea de crédito renovable'].str.replace('.', 'undefined')\n",
    "P_BI['Línea de crédito renovable'] = P_BI['Línea de crédito renovable'].str.replace('4', 'undefined')\n",
    "P_BI['Línea de crédito renovable'] = P_BI['Línea de crédito renovable'].str.replace('-', 'undefined')\n",
    "P_BI['Línea de crédito renovable'] = P_BI['Línea de crédito renovable'].str.replace('Q', 'undefined')\n",
    "\n",
    "P_BI = P_BI.drop(P_BI[P_BI['Nuevo o existente'] == 0.0].index)\n",
    "P_BI = P_BI.drop(P_BI[P_BI['Préstamo con poca documentación'] == 'undefined'].index)\n",
    "P_BI = P_BI.drop(P_BI[P_BI['Línea de crédito renovable'] == 'undefined'].index)"
   ]
  },
  {
   "cell_type": "code",
   "execution_count": 63,
   "id": "eaf886ce-3fdc-4165-ae21-0707c4f20a32",
   "metadata": {},
   "outputs": [],
   "source": [
    "P_BI['Estado del préstamo'] = P_BI['Estado del préstamo'].str.replace('P I F', 'Pagado')\n",
    "P_BI['Estado del préstamo'] = P_BI['Estado del préstamo'].str.replace('CHGOFF', 'Impago')"
   ]
  },
  {
   "cell_type": "code",
   "execution_count": 64,
   "id": "34294f61-4266-49cc-9030-d8a445d3278c",
   "metadata": {},
   "outputs": [
    {
     "data": {
      "text/plain": [
       "Pagado    501366\n",
       "Impago    110855\n",
       "Name: Estado del préstamo, dtype: int64"
      ]
     },
     "execution_count": 64,
     "metadata": {},
     "output_type": "execute_result"
    }
   ],
   "source": [
    "P_BI['Estado del préstamo'].value_counts()"
   ]
  },
  {
   "cell_type": "code",
   "execution_count": 65,
   "id": "9f702f0e-65dc-46b2-9281-e6a269ed6619",
   "metadata": {},
   "outputs": [
    {
     "data": {
      "text/plain": [
       "Empresa                                                  object\n",
       "Estado empresa                                           object\n",
       "Zip                                                       int64\n",
       "Banco                                                    object\n",
       "Estado Banco                                             object\n",
       "Industria                                                 int64\n",
       "Año en que se aprovó                                     object\n",
       "Número de empleados                                       int64\n",
       "Nuevo o existente                                       float64\n",
       "Puestos de trabajo creados                                int64\n",
       "Puestos de trabajo conservados                            int64\n",
       "Urbano o rural                                            int64\n",
       "Línea de crédito renovable                               object\n",
       "Préstamo con poca documentación                          object\n",
       "Saldo bruto                                              object\n",
       "Estado del préstamo                                      object\n",
       "Importe deducido                                         object\n",
       "Importe bruto del préstamo aprobado por el banco         object\n",
       "Importe garantizado por la SBA del préstamo aprobado     object\n",
       "dtype: object"
      ]
     },
     "execution_count": 65,
     "metadata": {},
     "output_type": "execute_result"
    }
   ],
   "source": [
    "P_BI.dtypes"
   ]
  },
  {
   "cell_type": "code",
   "execution_count": 66,
   "id": "1666e7da-790b-48d9-a782-8f4dc3703ce7",
   "metadata": {},
   "outputs": [],
   "source": [
    "P_BI['Saldo bruto'] = pd.to_numeric(P_BI['Saldo bruto'])\n",
    "P_BI['Importe deducido'] = pd.to_numeric(P_BI['Importe deducido'])\n",
    "P_BI['Importe bruto del préstamo aprobado por el banco'] = pd.to_numeric(P_BI['Importe bruto del préstamo aprobado por el banco'])\n",
    "P_BI['Importe garantizado por la SBA del préstamo aprobado'] = pd.to_numeric(P_BI['Importe garantizado por la SBA del préstamo aprobado'])"
   ]
  },
  {
   "cell_type": "code",
   "execution_count": 67,
   "id": "7b73e2a1-6d6d-4b82-ad2a-e371d3b4a750",
   "metadata": {},
   "outputs": [],
   "source": [
    "### Cambiamos el número identificador de la Industria por la misma...\n",
    "L = []\n",
    "\n",
    "for e in list(P_BI['Industria']):\n",
    "    L.append(str(e))"
   ]
  },
  {
   "cell_type": "code",
   "execution_count": 68,
   "id": "99a0e722-dcf3-484f-9ce4-dc1cc1821f73",
   "metadata": {},
   "outputs": [],
   "source": [
    "def industria(df):\n",
    "    lnew = []\n",
    "    for e in L:\n",
    "        if e[0:2] == '11':\n",
    "            lnew.append('Agriculture, forestry, fishing and hunting')\n",
    "        elif e[0:2] == '21':\n",
    "            lnew.append('Mining, quarrying, and oil and gas extraction')\n",
    "        elif e[0:2] == '22':\n",
    "            lnew.append('Utilities')\n",
    "        elif e[0:2] == '23':\n",
    "            lnew.append('Construcción')\n",
    "        elif e[0:2] == '31':\n",
    "            lnew.append('Manufacturing')\n",
    "        elif e[0:2] == '33':\n",
    "            lnew.append('Manufacturing')\n",
    "        elif e[0:2] == '42':\n",
    "            lnew.append('Wholesale trade')\n",
    "        elif e[0:2] == '44':\n",
    "            lnew.append('Retail trade')\n",
    "        elif e[0:2] == '45':\n",
    "            lnew.append('Retail trade')\n",
    "        elif e[0:2] == '48':\n",
    "            lnew.append('Transportation and warehousing')\n",
    "        elif e[0:2] == '49':\n",
    "            lnew.append('Transportation and warehousing')\n",
    "        elif e[0:2] == '51':\n",
    "            lnew.append('Information')\n",
    "        elif e[0:2] == '52':\n",
    "            lnew.append('Finance and Insurance')\n",
    "        elif e[0:2] == '53':\n",
    "            lnew.append('Real estate and rental and leasing')\n",
    "        elif e[0:2] == '54':\n",
    "            lnew.append('Professional, scientific, and technical services')\n",
    "        elif e[0:2] == '55':\n",
    "            lnew.append('Management of companies and enterprises')\n",
    "        elif e[0:2] == '56':\n",
    "            lnew.append('Administrative')\n",
    "        elif e[0:2] == '61':\n",
    "            lnew.append('Educational services')\n",
    "        elif e[0:2] == '62':\n",
    "            lnew.append('Healthcare')\n",
    "        elif e[0:2] == '71':\n",
    "            lnew.append('Arts, entertainment, and recreation')\n",
    "        elif e[0:2] == '72':\n",
    "            lnew.append('Acomodation and Food services')\n",
    "        elif e[0:2] == '81':\n",
    "            lnew.append('Other services')\n",
    "        elif e[0:2] == '92':\n",
    "            lnew.append('Public administration')\n",
    "        else:\n",
    "            lnew.append('No especifica')\n",
    "\n",
    "    return lnew"
   ]
  },
  {
   "cell_type": "code",
   "execution_count": 69,
   "id": "1b975a1c-6238-45c0-8328-50a6a876869c",
   "metadata": {},
   "outputs": [
    {
     "data": {
      "text/plain": [
       "True"
      ]
     },
     "execution_count": 69,
     "metadata": {},
     "output_type": "execute_result"
    }
   ],
   "source": [
    "len(L) == len(industria(P_BI))"
   ]
  },
  {
   "cell_type": "code",
   "execution_count": 70,
   "id": "fe385cd1-ca5f-42ad-b09a-01525422aa5b",
   "metadata": {},
   "outputs": [],
   "source": [
    "P_BI = P_BI.assign(Insudtria_nom = industria(P_BI))"
   ]
  },
  {
   "cell_type": "code",
   "execution_count": 71,
   "id": "1a98a8ca-61dd-45ce-ba02-082e5f3b16fa",
   "metadata": {},
   "outputs": [],
   "source": [
    "P_BI = P_BI.drop(['Industria'], axis = 1)"
   ]
  },
  {
   "cell_type": "code",
   "execution_count": 72,
   "id": "3b1b17a1-6258-4b7d-a572-ef39c807e8a7",
   "metadata": {
    "tags": []
   },
   "outputs": [],
   "source": [
    "# En último lugar, guardamos la BBDD en archivo CSV\n",
    "P_BI.to_csv('dataset_aprovacióncréditos_PowerBi')"
   ]
  }
 ],
 "metadata": {
  "kernelspec": {
   "display_name": "Python 3 (ipykernel)",
   "language": "python",
   "name": "python3"
  },
  "language_info": {
   "codemirror_mode": {
    "name": "ipython",
    "version": 3
   },
   "file_extension": ".py",
   "mimetype": "text/x-python",
   "name": "python",
   "nbconvert_exporter": "python",
   "pygments_lexer": "ipython3",
   "version": "3.9.7"
  }
 },
 "nbformat": 4,
 "nbformat_minor": 5
}
